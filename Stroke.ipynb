{
 "cells": [
  {
   "cell_type": "markdown",
   "id": "4cac01cb",
   "metadata": {},
   "source": [
    "## Data Preprocessing"
   ]
  },
  {
   "cell_type": "markdown",
   "id": "bf0f8472",
   "metadata": {},
   "source": [
    "#### Import libraries"
   ]
  },
  {
   "cell_type": "code",

   "execution_count": 1,
=======
   "execution_count": 27,

   "id": "3519d00d",
   "metadata": {},
   "outputs": [],
   "source": [
    "import pandas as pd\n",
    "import seaborn as sn\n",
    "import matplotlib.pyplot as plt\n",
    "import numpy as np\n",
    "import scipy.stats as scs"
   ]
  },
  {
   "cell_type": "markdown",
   "id": "d7d9599a",
   "metadata": {},
   "source": [
    "#### Import Dataset"
   ]
  },
  {
   "cell_type": "code",

   "execution_count": 2,
=======
   "execution_count": 28,

   "id": "3642f67e",
   "metadata": {},
   "outputs": [],
   "source": [
    "df = pd.read_csv(\"stroke data.csv\")"
   ]
  },
  {
   "cell_type": "markdown",
   "id": "13c5a74b",
   "metadata": {},
   "source": [
    "#### Dataset Head"
   ]
  },
  {
   "cell_type": "code",
   "execution_count": 3,
=======
   "execution_count": 
   "id": "6936e082",
   "metadata": {},
   "outputs": [
    {
     "data": {
      "text/html": [
       "<div>\n",
       "<style scoped>\n",
       "    .dataframe tbody tr th:only-of-type {\n",
       "        vertical-align: middle;\n",
       "    }\n",
       "\n",
       "    .dataframe tbody tr th {\n",
       "        vertical-align: top;\n",
       "    }\n",
       "\n",
       "    .dataframe thead th {\n",
       "        text-align: right;\n",
       "    }\n",
       "</style>\n",
       "<table border=\"1\" class=\"dataframe\">\n",
       "  <thead>\n",
       "    <tr style=\"text-align: right;\">\n",
       "      <th></th>\n",
       "      <th>id</th>\n",
       "      <th>gender</th>\n",
       "      <th>age</th>\n",
       "      <th>hypertension</th>\n",
       "      <th>heart_disease</th>\n",
       "      <th>ever_married</th>\n",
       "      <th>work_type</th>\n",
       "      <th>Residence_type</th>\n",
       "      <th>avg_glucose_level</th>\n",
       "      <th>bmi</th>\n",
       "      <th>smoking_status</th>\n",
       "      <th>stroke</th>\n",
       "    </tr>\n",
       "  </thead>\n",
       "  <tbody>\n",
       "    <tr>\n",
       "      <th>0</th>\n",
       "      <td>67</td>\n",
       "      <td>Female</td>\n",
       "      <td>17.0</td>\n",
       "      <td>0</td>\n",
       "      <td>0</td>\n",
       "      <td>No</td>\n",
       "      <td>Private</td>\n",
       "      <td>Urban</td>\n",
       "      <td>92.97</td>\n",
       "      <td>NaN</td>\n",
       "      <td>formerly smoked</td>\n",
       "      <td>0</td>\n",
       "    </tr>\n",
       "    <tr>\n",
       "      <th>1</th>\n",
       "      <td>77</td>\n",
       "      <td>Female</td>\n",
       "      <td>13.0</td>\n",
       "      <td>0</td>\n",
       "      <td>0</td>\n",
       "      <td>No</td>\n",
       "      <td>children</td>\n",
       "      <td>Rural</td>\n",
       "      <td>85.81</td>\n",
       "      <td>18.6</td>\n",
       "      <td>Unknown</td>\n",
       "      <td>0</td>\n",
       "    </tr>\n",
       "    <tr>\n",
       "      <th>2</th>\n",
       "      <td>84</td>\n",
       "      <td>Male</td>\n",
       "      <td>55.0</td>\n",
       "      <td>0</td>\n",
       "      <td>0</td>\n",
       "      <td>Yes</td>\n",
       "      <td>Private</td>\n",
       "      <td>Urban</td>\n",
       "      <td>89.17</td>\n",
       "      <td>31.5</td>\n",
       "      <td>never smoked</td>\n",
       "      <td>0</td>\n",
       "    </tr>\n",
       "    <tr>\n",
       "      <th>3</th>\n",
       "      <td>91</td>\n",
       "      <td>Female</td>\n",
       "      <td>42.0</td>\n",
       "      <td>0</td>\n",
       "      <td>0</td>\n",
       "      <td>No</td>\n",
       "      <td>Private</td>\n",
       "      <td>Urban</td>\n",
       "      <td>98.53</td>\n",
       "      <td>18.5</td>\n",
       "      <td>never smoked</td>\n",
       "      <td>0</td>\n",
       "    </tr>\n",
       "    <tr>\n",
       "      <th>4</th>\n",
       "      <td>99</td>\n",
       "      <td>Female</td>\n",
       "      <td>31.0</td>\n",
       "      <td>0</td>\n",
       "      <td>0</td>\n",
       "      <td>No</td>\n",
       "      <td>Private</td>\n",
       "      <td>Urban</td>\n",
       "      <td>108.89</td>\n",
       "      <td>52.3</td>\n",
       "      <td>Unknown</td>\n",
       "      <td>0</td>\n",
       "    </tr>\n",
       "  </tbody>\n",
       "</table>\n",
       "</div>"
      ],
      "text/plain": [
       "   id  gender   age  hypertension  heart_disease ever_married work_type  \\\n",
       "0  67  Female  17.0             0              0           No   Private   \n",
       "1  77  Female  13.0             0              0           No  children   \n",
       "2  84    Male  55.0             0              0          Yes   Private   \n",
       "3  91  Female  42.0             0              0           No   Private   \n",
       "4  99  Female  31.0             0              0           No   Private   \n",
       "\n",
       "  Residence_type  avg_glucose_level   bmi   smoking_status  stroke  \n",
       "0          Urban              92.97   NaN  formerly smoked       0  \n",
       "1          Rural              85.81  18.6          Unknown       0  \n",
       "2          Urban              89.17  31.5     never smoked       0  \n",
       "3          Urban              98.53  18.5     never smoked       0  \n",
       "4          Urban             108.89  52.3          Unknown       0  "
      ]
     },

     "execution_count": 3,
=======
     "execution_count": 29,

     "metadata": {},
     "output_type": "execute_result"
    }
   ],
   "source": [
    "df.head()"
   ]
  },
  {
   "cell_type": "markdown",
   "id": "497cd3f3",
   "metadata": {},
   "source": [
    "#### Describe Dataset"
   ]
  },
  {
   "cell_type": "code",

   "execution_count": 4,
=======
   "execution_count": 30,

   "id": "e4084757",
   "metadata": {},
   "outputs": [
    {
     "data": {
      "text/html": [
       "<div>\n",
       "<style scoped>\n",
       "    .dataframe tbody tr th:only-of-type {\n",
       "        vertical-align: middle;\n",
       "    }\n",
       "\n",
       "    .dataframe tbody tr th {\n",
       "        vertical-align: top;\n",
       "    }\n",
       "\n",
       "    .dataframe thead th {\n",
       "        text-align: right;\n",
       "    }\n",
       "</style>\n",
       "<table border=\"1\" class=\"dataframe\">\n",
       "  <thead>\n",
       "    <tr style=\"text-align: right;\">\n",
       "      <th></th>\n",
       "      <th>id</th>\n",
       "      <th>age</th>\n",
       "      <th>hypertension</th>\n",
       "      <th>heart_disease</th>\n",
       "      <th>avg_glucose_level</th>\n",
       "      <th>bmi</th>\n",
       "      <th>stroke</th>\n",
       "    </tr>\n",
       "  </thead>\n",
       "  <tbody>\n",
       "    <tr>\n",
       "      <th>count</th>\n",
       "      <td>5110.000000</td>\n",
       "      <td>5110.000000</td>\n",
       "      <td>5110.000000</td>\n",
       "      <td>5110.000000</td>\n",
       "      <td>5110.000000</td>\n",
       "      <td>4909.000000</td>\n",
       "      <td>5110.000000</td>\n",
       "    </tr>\n",
       "    <tr>\n",
       "      <th>mean</th>\n",
       "      <td>36517.829354</td>\n",
       "      <td>43.226614</td>\n",
       "      <td>0.097456</td>\n",
       "      <td>0.054012</td>\n",
       "      <td>106.147677</td>\n",
       "      <td>28.893237</td>\n",
       "      <td>0.048728</td>\n",
       "    </tr>\n",
       "    <tr>\n",
       "      <th>std</th>\n",
       "      <td>21161.721625</td>\n",
       "      <td>22.612647</td>\n",
       "      <td>0.296607</td>\n",
       "      <td>0.226063</td>\n",
       "      <td>45.283560</td>\n",
       "      <td>7.854067</td>\n",
       "      <td>0.215320</td>\n",
       "    </tr>\n",
       "    <tr>\n",
       "      <th>min</th>\n",
       "      <td>67.000000</td>\n",
       "      <td>0.080000</td>\n",
       "      <td>0.000000</td>\n",
       "      <td>0.000000</td>\n",
       "      <td>55.120000</td>\n",
       "      <td>10.300000</td>\n",
       "      <td>0.000000</td>\n",
       "    </tr>\n",
       "    <tr>\n",
       "      <th>25%</th>\n",
       "      <td>17741.250000</td>\n",
       "      <td>25.000000</td>\n",
       "      <td>0.000000</td>\n",
       "      <td>0.000000</td>\n",
       "      <td>77.245000</td>\n",
       "      <td>23.500000</td>\n",
       "      <td>0.000000</td>\n",
       "    </tr>\n",
       "    <tr>\n",
       "      <th>50%</th>\n",
       "      <td>36932.000000</td>\n",
       "      <td>45.000000</td>\n",
       "      <td>0.000000</td>\n",
       "      <td>0.000000</td>\n",
       "      <td>91.885000</td>\n",
       "      <td>28.100000</td>\n",
       "      <td>0.000000</td>\n",
       "    </tr>\n",
       "    <tr>\n",
       "      <th>75%</th>\n",
       "      <td>54682.000000</td>\n",
       "      <td>61.000000</td>\n",
       "      <td>0.000000</td>\n",
       "      <td>0.000000</td>\n",
       "      <td>114.090000</td>\n",
       "      <td>33.100000</td>\n",
       "      <td>0.000000</td>\n",
       "    </tr>\n",
       "    <tr>\n",
       "      <th>max</th>\n",
       "      <td>72940.000000</td>\n",
       "      <td>82.000000</td>\n",
       "      <td>1.000000</td>\n",
       "      <td>1.000000</td>\n",
       "      <td>271.740000</td>\n",
       "      <td>97.600000</td>\n",
       "      <td>1.000000</td>\n",
       "    </tr>\n",
       "  </tbody>\n",
       "</table>\n",
       "</div>"
      ],
      "text/plain": [
       "                 id          age  hypertension  heart_disease  \\\n",
       "count   5110.000000  5110.000000   5110.000000    5110.000000   \n",
       "mean   36517.829354    43.226614      0.097456       0.054012   \n",
       "std    21161.721625    22.612647      0.296607       0.226063   \n",
       "min       67.000000     0.080000      0.000000       0.000000   \n",
       "25%    17741.250000    25.000000      0.000000       0.000000   \n",
       "50%    36932.000000    45.000000      0.000000       0.000000   \n",
       "75%    54682.000000    61.000000      0.000000       0.000000   \n",
       "max    72940.000000    82.000000      1.000000       1.000000   \n",
       "\n",
       "       avg_glucose_level          bmi       stroke  \n",
       "count        5110.000000  4909.000000  5110.000000  \n",
       "mean          106.147677    28.893237     0.048728  \n",
       "std            45.283560     7.854067     0.215320  \n",
       "min            55.120000    10.300000     0.000000  \n",
       "25%            77.245000    23.500000     0.000000  \n",
       "50%            91.885000    28.100000     0.000000  \n",
       "75%           114.090000    33.100000     0.000000  \n",
       "max           271.740000    97.600000     1.000000  "
      ]
     },

     "execution_count": 4,
=======
     "execution_count": 30,

     "metadata": {},
     "output_type": "execute_result"
    }
   ],
   "source": [
    "df.describe()"
   ]
  },
  {
   "cell_type": "markdown",
   "id": "5b211c1e",
   "metadata": {},
   "source": [
    "### Data Cleaning"
   ]
  },
  {
   "cell_type": "markdown",
   "id": "aed625ff",
   "metadata": {},
   "source": [
    "#### Check Null Values"
   ]
  },
  {
   "cell_type": "code",
   "execution_count": 5,
=======
   "execution_count": 31,
   "id": "0d12ba24",
   "metadata": {},
   "outputs": [
    {
     "data": {
      "text/plain": [
       "id                     0\n",
       "gender                 0\n",
       "age                    0\n",
       "hypertension           0\n",
       "heart_disease          0\n",
       "ever_married           0\n",
       "work_type              0\n",
       "Residence_type         0\n",
       "avg_glucose_level      0\n",
       "bmi                  201\n",
       "smoking_status         0\n",
       "stroke                 0\n",
       "dtype: int64"
      ]
     },
     "execution_count": 5,
=======
     "execution_count": 31,
     "metadata": {},
     "output_type": "execute_result"
    }
   ],
   "source": [
    "df.isnull().sum()"
   ]
  },
  {
   "cell_type": "markdown",
   "id": "b203ca9b",
   "metadata": {},
   "source": [
    "#### Imputation"
   ]
  },
  {
   "cell_type": "markdown",
   "id": "f4614de8",
   "metadata": {},
   "source": [
    "##### Mode of the bmi"
   ]
  },
  {
   "cell_type": "code",
   "execution_count": 6,
=======
   "execution_count": 32,
   "id": "9a9975f2",
   "metadata": {},
   "outputs": [
    {
     "data": {
      "text/plain": [
       "0    28.7\n",
       "Name: bmi, dtype: float64"
      ]
     },
     "execution_count": 6,
=======
     "execution_count": 32,
     "metadata": {},
     "output_type": "execute_result"
    }
   ],
   "source": [
    "df['bmi'].mode()"
   ]
  },
  {
   "cell_type": "markdown",
   "id": "4b5a9b3c",
   "metadata": {},
   "source": [
    "##### Filling missing values with mode"
   ]
  },
  {
   "cell_type": "code",
   "execution_count": 7,
=======
   "execution_count": 33,
   "id": "7d7ee173",
   "metadata": {},
   "outputs": [
    {
     "data": {
      "text/html": [
       "<div>\n",
       "<style scoped>\n",
       "    .dataframe tbody tr th:only-of-type {\n",
       "        vertical-align: middle;\n",
       "    }\n",
       "\n",
       "    .dataframe tbody tr th {\n",
       "        vertical-align: top;\n",
       "    }\n",
       "\n",
       "    .dataframe thead th {\n",
       "        text-align: right;\n",
       "    }\n",
       "</style>\n",
       "<table border=\"1\" class=\"dataframe\">\n",
       "  <thead>\n",
       "    <tr style=\"text-align: right;\">\n",
       "      <th></th>\n",
       "      <th>id</th>\n",
       "      <th>gender</th>\n",
       "      <th>age</th>\n",
       "      <th>hypertension</th>\n",
       "      <th>heart_disease</th>\n",
       "      <th>ever_married</th>\n",
       "      <th>work_type</th>\n",
       "      <th>Residence_type</th>\n",
       "      <th>avg_glucose_level</th>\n",
       "      <th>bmi</th>\n",
       "      <th>smoking_status</th>\n",
       "      <th>stroke</th>\n",
       "    </tr>\n",
       "  </thead>\n",
       "  <tbody>\n",
       "    <tr>\n",
       "      <th>0</th>\n",
       "      <td>67</td>\n",
       "      <td>Female</td>\n",
       "      <td>17.0</td>\n",
       "      <td>0</td>\n",
       "      <td>0</td>\n",
       "      <td>No</td>\n",
       "      <td>Private</td>\n",
       "      <td>Urban</td>\n",
       "      <td>92.97</td>\n",
       "      <td>28.7</td>\n",
       "      <td>formerly smoked</td>\n",
       "      <td>0</td>\n",
       "    </tr>\n",
       "    <tr>\n",
       "      <th>1</th>\n",
       "      <td>77</td>\n",
       "      <td>Female</td>\n",
       "      <td>13.0</td>\n",
       "      <td>0</td>\n",
       "      <td>0</td>\n",
       "      <td>No</td>\n",
       "      <td>children</td>\n",
       "      <td>Rural</td>\n",
       "      <td>85.81</td>\n",
       "      <td>18.6</td>\n",
       "      <td>Unknown</td>\n",
       "      <td>0</td>\n",
       "    </tr>\n",
       "    <tr>\n",
       "      <th>2</th>\n",
       "      <td>84</td>\n",
       "      <td>Male</td>\n",
       "      <td>55.0</td>\n",
       "      <td>0</td>\n",
       "      <td>0</td>\n",
       "      <td>Yes</td>\n",
       "      <td>Private</td>\n",
       "      <td>Urban</td>\n",
       "      <td>89.17</td>\n",
       "      <td>31.5</td>\n",
       "      <td>never smoked</td>\n",
       "      <td>0</td>\n",
       "    </tr>\n",
       "    <tr>\n",
       "      <th>3</th>\n",
       "      <td>91</td>\n",
       "      <td>Female</td>\n",
       "      <td>42.0</td>\n",
       "      <td>0</td>\n",
       "      <td>0</td>\n",
       "      <td>No</td>\n",
       "      <td>Private</td>\n",
       "      <td>Urban</td>\n",
       "      <td>98.53</td>\n",
       "      <td>18.5</td>\n",
       "      <td>never smoked</td>\n",
       "      <td>0</td>\n",
       "    </tr>\n",
       "    <tr>\n",
       "      <th>4</th>\n",
       "      <td>99</td>\n",
       "      <td>Female</td>\n",
       "      <td>31.0</td>\n",
       "      <td>0</td>\n",
       "      <td>0</td>\n",
       "      <td>No</td>\n",
       "      <td>Private</td>\n",
       "      <td>Urban</td>\n",
       "      <td>108.89</td>\n",
       "      <td>52.3</td>\n",
       "      <td>Unknown</td>\n",
       "      <td>0</td>\n",
       "    </tr>\n",
       "  </tbody>\n",
       "</table>\n",
       "</div>"
      ],
      "text/plain": [
       "   id  gender   age  hypertension  heart_disease ever_married work_type  \\\n",
       "0  67  Female  17.0             0              0           No   Private   \n",
       "1  77  Female  13.0             0              0           No  children   \n",
       "2  84    Male  55.0             0              0          Yes   Private   \n",
       "3  91  Female  42.0             0              0           No   Private   \n",
       "4  99  Female  31.0             0              0           No   Private   \n",
       "\n",
       "  Residence_type  avg_glucose_level   bmi   smoking_status  stroke  \n",
       "0          Urban              92.97  28.7  formerly smoked       0  \n",
       "1          Rural              85.81  18.6          Unknown       0  \n",
       "2          Urban              89.17  31.5     never smoked       0  \n",
       "3          Urban              98.53  18.5     never smoked       0  \n",
       "4          Urban             108.89  52.3          Unknown       0  "
      ]
     },
     "execution_count": 7,
=======
     "execution_count": 33,
     "metadata": {},
     "output_type": "execute_result"
    }
   ],
   "source": [
    "df['bmi'].fillna(28.7,inplace=True)\n",
    "df.head()"
   ]
  },
  {
   "cell_type": "markdown",
   "id": "81b4c58b",
   "metadata": {},
   "source": [
    "#### Find Duplicate Values"
   ]
  },
  {
   "cell_type": "code",
   "execution_count": 8,
=======
   "execution_count": 34,
   "id": "6321afd0",
   "metadata": {},
   "outputs": [
    {
     "data": {
      "text/plain": [
       "0"
      ]
     },
     "execution_count": 8,
=======
     "execution_count": 34,
     "metadata": {},
     "output_type": "execute_result"
    }
   ],
   "source": [
    "df.duplicated().sum()"
   ]
  },
  {
   "cell_type": "markdown",
   "id": "b66cbf54",
   "metadata": {},
   "source": [
    "#### Outlier Detection"
   ]
  },
  {
   "cell_type": "code",
   "execution_count": 9,
=======
   "execution_count": 35,
   "id": "1849d315",
   "metadata": {},
   "outputs": [
    {
     "data": {
      "text/plain": [
       "<Axes: >"
      ]
     },
     "execution_count": 9,
=======
     "execution_count": 35,
     "metadata": {},
     "output_type": "execute_result"
    },
    {
     "data": {
      "image/png": "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\n",
      "text/plain": [
       "<Figure size 640x480 with 1 Axes>"
      ]
     },
     "metadata": {},
     "output_type": "display_data"
    }
   ],
   "source": [
    "#age column\n",
    "sn.boxplot(df['age'])"
   ]
  },
  {
   "cell_type": "code",
   "execution_count": 10,
=======
   "execution_count": 36,
   "id": "10fda2f2",
   "metadata": {},
   "outputs": [
    {
     "name": "stderr",
     "output_type": "stream",
     "text": [
      "C:\\Users\\LENOVO\\AppData\\Local\\Temp\\ipykernel_23504\\1085625343.py:2: UserWarning: \n",
=======
      "C:\\Users\\LENOVO\\AppData\\Local\\Temp\\ipykernel_23672\\1085625343.py:2: UserWarning: \n",
      "\n",
      "`distplot` is a deprecated function and will be removed in seaborn v0.14.0.\n",
      "\n",
      "Please adapt your code to use either `displot` (a figure-level function with\n",
      "similar flexibility) or `histplot` (an axes-level function for histograms).\n",
      "\n",
      "For a guide to updating your code to use the new functions, please see\n",
      "https://gist.github.com/mwaskom/de44147ed2974457ad6372750bbe5751\n",
      "\n",
      "  sn.distplot(df['hypertension'])\n"
     ]
    },
    {
     "data": {
      "text/plain": [
       "<Axes: xlabel='hypertension', ylabel='Density'>"
      ]
     },
     "execution_count": 10,
=======
     "execution_count": 36,
     "metadata": {},
     "output_type": "execute_result"
    },
    {
     "data": {
      "image/png": "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\n",
      "text/plain": [
       "<Figure size 640x480 with 1 Axes>"
      ]
     },
     "metadata": {},
     "output_type": "display_data"
    }
   ],
   "source": [
    "# hypertension column\n",
    "sn.distplot(df['hypertension'])"
   ]
  },
  {
   "cell_type": "code",
   "execution_count": 11,
=======
   "execution_count": 37,
   "id": "61713e45",
   "metadata": {},
   "outputs": [
    {
     "name": "stderr",
     "output_type": "stream",
     "text": [
      "C:\\Users\\LENOVO\\AppData\\Local\\Temp\\ipykernel_23504\\3122140671.py:2: UserWarning: \n",
=======
      "C:\\Users\\LENOVO\\AppData\\Local\\Temp\\ipykernel_23672\\3122140671.py:2: UserWarning: \n",
      "\n",
      "`distplot` is a deprecated function and will be removed in seaborn v0.14.0.\n",
      "\n",
      "Please adapt your code to use either `displot` (a figure-level function with\n",
      "similar flexibility) or `histplot` (an axes-level function for histograms).\n",
      "\n",
      "For a guide to updating your code to use the new functions, please see\n",
      "https://gist.github.com/mwaskom/de44147ed2974457ad6372750bbe5751\n",
      "\n",
      "  sn.distplot(df['heart_disease'])\n"
     ]
    },
    {
     "data": {
      "text/plain": [
       "<Axes: xlabel='heart_disease', ylabel='Density'>"
      ]
     },

     "execution_count": 11,
=======
     "execution_count": 37,

     "metadata": {},
     "output_type": "execute_result"
    },
    {
     "data": {
      "image/png": "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\n",
      "text/plain": [
       "<Figure size 640x480 with 1 Axes>"
      ]
     },
     "metadata": {},
     "output_type": "display_data"
    }
   ],
   "source": [
    "# heart disese column\n",
    "sn.distplot(df['heart_disease'])"
   ]
  },
  {
   "cell_type": "code",

   "execution_count": 12,
=======
   "execution_count": 38,

   "id": "c56a617b",
   "metadata": {},
   "outputs": [
    {
     "data": {
      "text/plain": [
       "<Axes: >"
      ]
     },

     "execution_count": 12,
=======
     "execution_count": 38,

     "metadata": {},
     "output_type": "execute_result"
    },
    {
     "data": {
      "image/png": "iVBORw0KGgoAAAANSUhEUgAAAigAAAGdCAYAAAA44ojeAAAAOXRFWHRTb2Z0d2FyZQBNYXRwbG90bGliIHZlcnNpb24zLjcuMCwgaHR0cHM6Ly9tYXRwbG90bGliLm9yZy88F64QAAAACXBIWXMAAA9hAAAPYQGoP6dpAAAfLUlEQVR4nO3df2xV9R3/8deVwr0ttjeU0ntbuSVVMdnW6ndiLXYqIFhsgsiPRDaXRRJmXARmA8wE+WNkLjSSiDqJJi4MEKiYJeKPaJEytMoat9qvfAW2GYxg29BrQ1PvpdDeQjnfPww33lLAyyl8Pj19PpKT9J73afncmNpnzj33XJ/jOI4AAAAscp3pBQAAAAxEoAAAAOsQKAAAwDoECgAAsA6BAgAArEOgAAAA6xAoAADAOgQKAACwTobpBVyJc+fO6fjx48rOzpbP5zO9HAAA8CM4jqOTJ0+qsLBQ11136XMkwzJQjh8/rkgkYnoZAADgCrS2tmrixImXPGZYBkp2drak759gTk6O4dUAAIAfIx6PKxKJJP+OX8qwDJTzL+vk5OQQKAAADDM/5vIMLpIFAADWIVAAAIB1CBQAAGAdAgUAAFiHQAEAANYhUAAAgHUIFAAAYB0CBQAAWIdAAWCVxsZGLVq0SI2NjaaXAsAgAgWANXp7e7VhwwZ9++232rBhg3p7e00vCYAhBAoAa+zYsUOdnZ2SpM7OTtXW1hpeEQBTCBQAVmhra1Ntba0cx5H0/cey19bWqq2tzfDKAJhAoAAwznEcvfjiixfdfz5aAIwcBAoA41paWtTU1KT+/v6U/f39/WpqalJLS4uhlQEwhUABYFxRUZHKyso0atSolP2jRo3SnXfeqaKiIkMrA2AKgQLAOJ/PpyeffPKi+30+n4FVATCJQAFghYkTJ+qhhx5K2ffQQw/phhtuMLQiACYRKACs0dDQcMnHAEYOAgWAFXbv3p28B8p5J06c0O7duw2tCIBJBAoA4/r7+7V+/fpBZ+vXr7/g3T0AvI9AAWDcu+++q3Pnzg06O3funN59991rvCIAphEoAIy79dZbXc0BeA+BAsC44uJiFRcXDzq78cYbLzoD4F0ECgDjfD6fnnnmmUFnzzzzDPdBAUYgAgWA1fgcHmBkIlAAGOc4jp599tlBZ88++yyRAoxABAoA47755hsdPHhw0NnBgwf1zTffXOMVATCNQAEAANYhUAAYV1RUpKysrEFnWVlZfJoxMAIRKACMa2lp0enTpwednT59Wi0tLdd4RQBMI1AAAIB1CBQAxhUVFen6668fdHb99dfzEg8wAhEoAIxrbW1Vd3f3oLPu7m61trZe4xUBMI1AAWBcUVGRysrKBp3deeednEEBRiACBYBxPp9PTz755EX3c6t7YOQhUABYY7AQ4S6ywMhEoAAwznEcvfjiixfEyMX2A/A+AgWAcS0tLWpqahp01tTUxH1QgBGIQAFgXCQSUSAQGHQWCAQUiUSu8YoAmEagADDu2LFj6u3tHXTW29urY8eOXdsFATCOQAFg3IEDB1zNAXgPgQLAuAkTJriaA/AeAgWAcTfccIOrOQDvSStQampqVFZWpuzsbOXn52vevHn68ssvU45ZvHixfD5fyjZ16tSUYxKJhJYvX668vDyNHTtWc+fOVVtbm/tnA2BYutyN2LhRGzDypBUoDQ0NWrp0qT799FPV19fr7Nmzqqys1KlTp1KOe+CBB9Te3p7c3n///ZR5dXW1du3apZ07d2r//v3q7u7WnDlz1N/f7/4ZARh2LnefE+6DAow8GekcvHv37pTHmzdvVn5+vpqbm3Xvvfcm9/v9foXD4UF/RiwW06ZNm7Rt2zbNmjVLkrR9+3ZFIhHt3btXs2fPTvc5ABjmjh8/ftn5jTfeeI1WA8AGrq5BicVikqTc3NyU/R999JHy8/N1yy236LHHHlNHR0dy1tzcrDNnzqiysjK5r7CwUCUlJWpsbBz030kkEorH4ykbAADwrisOFMdxtGLFCt19990qKSlJ7q+qqtKOHTu0b98+Pffcc2pqatJ9992nRCIhSYpGoxozZozGjRuX8vNCoZCi0eig/1ZNTY2CwWBy46ZNgLcUFBS4mgPwnrRe4vmhZcuW6YsvvtD+/ftT9i9atCj5dUlJie644w5NmjRJ7733nhYsWHDRn+c4zkUvhFu9erVWrFiRfByPx4kUwEO+/fbby85vuumma7QaADa4ojMoy5cv1zvvvKMPP/xQEydOvOSxBQUFmjRpko4cOSJJCofD6uvrU1dXV8pxHR0dCoVCg/4Mv9+vnJyclA2Ad5SVlbmaA/CetALFcRwtW7ZMb775pvbt26fi4uLLfk9nZ6daW1uTp2inTJmi0aNHq76+PnlMe3u7Dh06pIqKijSXD8AL3nnnHVdzAN6T1ks8S5cuVW1trd5++21lZ2cnrxkJBoPKzMxUd3e31q5dq4ULF6qgoEDHjh3T008/rby8PM2fPz957JIlS7Ry5UqNHz9eubm5WrVqlUpLS5Pv6gEwsgw8o5ruHID3+Jw0bjBwsWtENm/erMWLF6unp0fz5s3T559/ru+++04FBQWaMWOGnnnmmZRrRnp7e/WHP/xBtbW16unp0cyZM/Xyyy//6OtK4vG4gsGgYrEYL/cAHtDX15fyzr6B9uzZozFjxlzDFQG4GtL5+53WGZTLtUxmZqY++OCDy/6cQCCgl156SS+99FI6/zwAj2pubr7s/K677rpGqwFgAz6LB4Bx5eXlysrKGnSWlZWl8vLya7wiAKYRKACscP5eST92PwBvI1AAGPfJJ59c9LO4+vv79cknn1zjFQEwjUABYNy+fftczQF4D4ECwLhp06a5mgPwHgIFgHHnP3j0SucAvIdAAWDcnDlzXM0BeA+BAsC4f/3rX67mALyHQAFgXHt7u6s5AO8hUAAY9/XXX7uaA/AeAgWAccFg0NUcgPcQKACMGz9+vKs5AO8hUAAYd7FPSv+xcwDeQ6AAAADrECgAjJswYYKrOQDvIVAAGPfll1+6mgPwHgIFgHE5OTmu5gC8h0ABYNx//vMfV3MA3kOgADAuPz/f1RyA9xAoAIw7ffq0qzkA7yFQABiXnZ3tag7AewgUAMadPXvW1RyA9xAoAIzbv3+/qzkA7yFQABj3i1/8wtUcgPcQKACMC4fDruYAvIdAAWBcZ2enqzkA7yFQABhHoAAYiEABYNyBAwdczQF4D4ECwLjS0lJXcwDeQ6AAMO7QoUOu5gC8h0ABYNz8+fNdzQF4D4ECwDi/3+9qDsB7CBQAxt12222u5gC8h0ABYFxbW5urOQDvIVAAGPePf/zD1RyA9xAoAIxLJBKu5gC8h0ABYFw8Hnc1B+A9BAoA44qKilzNAXgPgQLAuHPnzrmaA/AeAgWAcd98842rOQDvIVAAGHf8+HFXcwDeQ6AAMK6ystLVHID3ECgAjDt9+rSrOQDvIVAAGMenGQMYiEABYNzZs2ddzQF4D4ECwDjeZgxgIAIFgHEZGRmu5gC8h0ABYFxVVZWrOQDvIVAAGPf555+7mgPwHgIFgHH5+fmu5gC8h0ABYFw0GnU1B+A9BAoA4ziDAmAgAgWAcZ2dna7mALyHQAFg3O233+5qDsB7CBQAxv3zn/90NQfgPQQKAOOCwaCrOQDvIVAAGFdUVORqDsB7CBQAxv3vf/9zNQfgPQQKAOM6OjpczQF4D4ECwLizZ8+6mgPwHgIFgHFTp051NQfgPQQKAON4mzGAgQgUAMYVFBS4mgPwHgIFgHGnTp1yNQfgPQQKAONuvvlmV3MA3kOgADDuxIkTruYAvIdAAWCc4ziu5gC8J61AqampUVlZmbKzs5Wfn6958+bpyy+/TDnGcRytXbtWhYWFyszM1PTp03X48OGUYxKJhJYvX668vDyNHTtWc+fOVVtbm/tnA2BYisViruYAvCetQGloaNDSpUv16aefqr6+XmfPnlVlZWXKBWzr16/Xhg0btHHjRjU1NSkcDuv+++/XyZMnk8dUV1dr165d2rlzp/bv36/u7m7NmTNH/f39Q/fMAAwbXIMCYKCMdA7evXt3yuPNmzcrPz9fzc3Nuvfee+U4jl544QWtWbNGCxYskCRt3bpVoVBItbW1evzxxxWLxbRp0yZt27ZNs2bNkiRt375dkUhEe/fu1ezZs4foqQEYLrgGBcBArq5BOX/aNTc3V5J09OhRRaNRVVZWJo/x+/2aNm2aGhsbJUnNzc06c+ZMyjGFhYUqKSlJHjNQIpFQPB5P2QB4R0tLi6s5AO+54kBxHEcrVqzQ3XffrZKSEklSNBqVJIVCoZRjQ6FQchaNRjVmzBiNGzfuoscMVFNTo2AwmNwikciVLhuAhcaPH+9qDsB7rjhQli1bpi+++EKvv/76BTOfz5fy2HGcC/YNdKljVq9erVgsltxaW1uvdNkALFRUVORqDsB7rihQli9frnfeeUcffvihJk6cmNwfDocl6YIzIR0dHcmzKuFwWH19ferq6rroMQP5/X7l5OSkbAC84+jRo67mALwnrUBxHEfLli3Tm2++qX379qm4uDhlXlxcrHA4rPr6+uS+vr4+NTQ0qKKiQpI0ZcoUjR49OuWY9vZ2HTp0KHkMgJFl4P9L0p0D8J603sWzdOlS1dbW6u2331Z2dnbyTEkwGFRmZqZ8Pp+qq6u1bt06TZ48WZMnT9a6deuUlZWlRx55JHnskiVLtHLlSo0fP165ublatWqVSktLk+/qATCycJEsgIHSCpRXXnlFkjR9+vSU/Zs3b9bixYslSU899ZR6enr0xBNPqKurS+Xl5dqzZ4+ys7OTxz///PPKyMjQww8/rJ6eHs2cOVNbtmzRqFGj3D0bAMNSIpFwNQfgPT5nGN5DOh6PKxgMKhaLcT0K4AG///3v9cUXX1x0fuutt+ovf/nLNVwRgKshnb/ffBYPAOMu9y6/y80BeA+BAsC4y33MBR+DAYw8BAoA4/x+v6s5AO8hUAAYV1ZW5moOwHsIFADGXewmjT92DsB7CBQAxu3du9fVHID3ECgAjDt9+rSrOQDvIVAAGHfTTTe5mgPwHgIFgHGnTp1yNQfgPQQKAOO6u7tdzQF4D4ECwLhf//rXruYAvIdAAWDc4cOHXc0BeA+BAsC4zs5OV3MA3kOgADDu5ptvdjUH4D0ECgDjGhoaXM0BeA+BAsC4e+65x9UcgPcQKACMO3DggKs5AO8hUAAYF4lEXM0BeA+BAsA4n8/nag7AewgUAMYdPHjQ1RyA9xAoAIy79dZbXc0BeA+BAsC4uXPnupoD8B4CBYBxr732mqs5AO8hUAAY5ziOqzkA7yFQABg3ffp0V3MA3kOgADCOW90DGIhAAWDcuHHjXM0BeA+BAsC4n//8567mALyHQAFgXH9/v6s5AO8hUAAYt2PHDldzAN5DoAAwrqSkxNUcgPcQKACM4xoUAAMRKACMO378uKs5AO8hUAAY9+9//9vVHID3ECgAjCsrK3M1B+A9BAoA4yZOnOhqDsB7CBQAxkWjUVdzAN5DoAAwLj8/39UcgPcQKACM++ijj1zNAXhPhukFAKY5jqPe3l7TyxjRsrKyLjvv6em5RqvBYAKBgHw+n+llYATxOY7jmF5EuuLxuILBoGKxmHJyckwvB8NcT0+PqqqqTC8DsFpdXZ0yMzNNLwPDXDp/v3mJBwAAWIeXeDDiBQIB1dXVmV7GiPf3v/9df/vb3y7Y/9vf/lYLFy40sCL8UCAQML0EjDC8xAPAGrNnz1YikUg+DgQC2r17t8EVARhKvMQDYFh66aWXUh6/+uqrhlYCwDQCBYA1IpFI8uuf/vSnKioqMrgaACYRKACs9Nxzz5leAgCDCBQAAGAdAgUAAFiHQAEAANYhUAAAgHUIFAAAYB0CBQAAWIdAAQAA1iFQAACAdQgUAABgHQIFAABYh0ABAADWIVAAAIB1CBQAAGAdAgUAAFiHQAEAANYhUAAAgHUIFAAAYB0CBQAAWIdAAQAA1kk7UD7++GM9+OCDKiwslM/n01tvvZUyX7x4sXw+X8o2derUlGMSiYSWL1+uvLw8jR07VnPnzlVbW5urJwIAALwj7UA5deqUbrvtNm3cuPGixzzwwANqb29Pbu+//37KvLq6Wrt27dLOnTu1f/9+dXd3a86cOerv70//GQAAAM/JSPcbqqqqVFVVdclj/H6/wuHwoLNYLKZNmzZp27ZtmjVrliRp+/btikQi2rt3r2bPnp3ukgAAgMdclWtQPvroI+Xn5+uWW27RY489po6OjuSsublZZ86cUWVlZXJfYWGhSkpK1NjYOOjPSyQSisfjKRsAAPCuIQ+Uqqoq7dixQ/v27dNzzz2npqYm3XfffUokEpKkaDSqMWPGaNy4cSnfFwqFFI1GB/2ZNTU1CgaDyS0SiQz1sgEAgEXSfonnchYtWpT8uqSkRHfccYcmTZqk9957TwsWLLjo9zmOI5/PN+hs9erVWrFiRfJxPB4nUgAA8LCr/jbjgoICTZo0SUeOHJEkhcNh9fX1qaurK+W4jo4OhUKhQX+G3+9XTk5OygYAALzrqgdKZ2enWltbVVBQIEmaMmWKRo8erfr6+uQx7e3tOnTokCoqKq72cgAAwDCQ9ks83d3d+uqrr5KPjx49qgMHDig3N1e5ublau3atFi5cqIKCAh07dkxPP/208vLyNH/+fElSMBjUkiVLtHLlSo0fP165ublatWqVSktLk+/qAQAAI1vagfLZZ59pxowZycfnrw159NFH9corr+jgwYN67bXX9N1336mgoEAzZszQG2+8oezs7OT3PP/888rIyNDDDz+snp4ezZw5U1u2bNGoUaOG4CkBAIDhzuc4jmN6EemKx+MKBoOKxWJcjwJ4SE9PT/I+S3V1dcrMzDS8IgBDKZ2/33wWDwAAsA6BAgAArEOgAAAA6xAoAADAOgQKAACwDoECAACsQ6AAAADrECgAAMA6BAoAALAOgQIAAKxDoAAAAOsQKAAAwDoECgAAsA6BAgAArEOgAAAA6xAoAADAOgQKAACwDoECAACsQ6AAAADrECgAAMA6BAoAALAOgQIAAKxDoAAAAOsQKAAAwDoECgAAsA6BAgAArEOgAAAA6xAoAADAOgQKAACwDoECAACsQ6AAAADrECgAAMA6BAoAALAOgQIAAKxDoAAAAOsQKAAAwDoECgAAsA6BAgAArEOgAAAA6xAoAADAOgQKAACwDoECAACsQ6AAAADrECgAAMA6BAoAALAOgQIAAKxDoAAAAOtkmF7ASOU4jnp7e00vA7DKD38n+P0ABhcIBOTz+Uwv46ojUAzp7e1VVVWV6WUA1po/f77pJQBWqqurU2ZmpullXHW8xAMAAKzDGRQLdP+fX8m5jv8UgBxHOnf2+6+vy5BGwGls4MfwnTur6w+8bnoZ1xR/FS3gXJchjRptehmAJcaYXgBgHcf0AgzgJR4AAGAdAgUAAFiHQAEAANYhUAAAgHUIFAAAYB0CBQAAWIdAAQAA1iFQAACAdQgUAABgHQIFAABYh0ABAADWIVAAAIB1CBQAAGAdAgUAAFiHQAEAANZJO1A+/vhjPfjggyosLJTP59Nbb72VMnccR2vXrlVhYaEyMzM1ffp0HT58OOWYRCKh5cuXKy8vT2PHjtXcuXPV1tbm6okAAADvSDtQTp06pdtuu00bN24cdL5+/Xpt2LBBGzduVFNTk8LhsO6//36dPHkyeUx1dbV27dqlnTt3av/+/eru7tacOXPU399/5c8EAAB4Rka631BVVaWqqqpBZ47j6IUXXtCaNWu0YMECSdLWrVsVCoVUW1urxx9/XLFYTJs2bdK2bds0a9YsSdL27dsViUS0d+9ezZ4928XTAQAAXjCk16AcPXpU0WhUlZWVyX1+v1/Tpk1TY2OjJKm5uVlnzpxJOaawsFAlJSXJYwZKJBKKx+MpGwAA8K4hDZRoNCpJCoVCKftDoVByFo1GNWbMGI0bN+6ixwxUU1OjYDCY3CKRyFAuGwAAWOaqvIvH5/OlPHYc54J9A13qmNWrVysWiyW31tbWIVsrAACwz5AGSjgclqQLzoR0dHQkz6qEw2H19fWpq6vroscM5Pf7lZOTk7IBAADvGtJAKS4uVjgcVn19fXJfX1+fGhoaVFFRIUmaMmWKRo8enXJMe3u7Dh06lDwGAACMbGm/i6e7u1tfffVV8vHRo0d14MAB5ebmqqioSNXV1Vq3bp0mT56syZMna926dcrKytIjjzwiSQoGg1qyZIlWrlyp8ePHKzc3V6tWrVJpaWnyXT0AAGBkSztQPvvsM82YMSP5eMWKFZKkRx99VFu2bNFTTz2lnp4ePfHEE+rq6lJ5ebn27Nmj7Ozs5Pc8//zzysjI0MMPP6yenh7NnDlTW7Zs0ahRo4bgKQEAgOHO5ziOY3oR6YrH4woGg4rFYsP2epSenp7k/WRO3v4badRowysCAFir/4yy/+82SVJdXZ0yMzMNL+jKpPP3m8/iAQAA1iFQAACAdQgUAABgnbQvksXQSLn0p/+MuYUAAOz3g78Tw/DS0StCoBiSSCSSX2f/v50GVwIAGE4SiYSysrJML+Oq4yUeAABgHc6gGOL3+5Nfn7ztl7zNGABwcf1nkmfbf/j3w8sIFENSPhhx1GgCBQDwo1zuw3e9gpd4AACAdQgUAABgHQIFAABYh0ABAADWIVAAAIB1CBQAAGAdAgUAAFiHQAEAANYhUAAAgHUIFAAAYB0CBQAAWIdAAQAA1iFQAACAdQgUAABgHQIFAABYh0ABAADWIVAAAIB1CBQAAGCdDNMLgOQ7d1aO6UUANnAc6dzZ77++LkPy+cyuB7CE7/zvxQhCoFjg+gOvm14CAABW4SUeAABgHc6gGBIIBFRXV2d6GYBVent7NX/+fEnSrl27FAgEDK8IsM9I+b0gUAzx+XzKzMw0vQzAWoFAgN8RYATjJR4AAGAdAgUAAFiHQAEAANYhUAAAgHUIFAAAYB0CBQAAWIdAAQAA1iFQAACAdQgUAABgHQIFAABYh0ABAADWIVAAAIB1CBQAAGAdAgUAAFiHQAEAANYhUAAAgHUIFAAAYB0CBQAAWIdAAQAA1iFQAACAdQgUAABgHQIFAABYh0ABAADWIVAAAIB1CBQAAGAdAgUAAFiHQAEAANYhUAAAgHUIFAAAYJ0M0wsATHMcR729vaaXASnlvwP/TewSCATk8/lMLwMjCIGCEa+3t1dVVVWml4EB5s+fb3oJ+IG6ujplZmaaXgZGEF7iAQAA1uEMCka8QCCguro608uAvn+5LZFISJL8fj8vKVgkEAiYXgJGGAIFI57P5+PUtUWysrJMLwGABXiJBwAAWGfIA2Xt2rXy+XwpWzgcTs4dx9HatWtVWFiozMxMTZ8+XYcPHx7qZQAAgGHsqpxB+dnPfqb29vbkdvDgweRs/fr12rBhgzZu3KimpiaFw2Hdf//9Onny5NVYCgAAGIauSqBkZGQoHA4ntwkTJkj6/uzJCy+8oDVr1mjBggUqKSnR1q1bdfr0adXW1l6NpQAAgGHoqgTKkSNHVFhYqOLiYv3yl7/U119/LUk6evSootGoKisrk8f6/X5NmzZNjY2NF/15iURC8Xg8ZQMAAN415IFSXl6u1157TR988IH++te/KhqNqqKiQp2dnYpGo5KkUCiU8j2hUCg5G0xNTY2CwWByi0QiQ71sAABgkSEPlKqqKi1cuFClpaWaNWuW3nvvPUnS1q1bk8cMvLeB4ziXvN/B6tWrFYvFkltra+tQLxsAAFjkqr/NeOzYsSotLdWRI0eS7+YZeLako6PjgrMqP+T3+5WTk5OyAQAA77rqgZJIJPTf//5XBQUFKi4uVjgcVn19fXLe19enhoYGVVRUXO2lAACAYWLI7yS7atUqPfjggyoqKlJHR4f+/Oc/Kx6P69FHH5XP51N1dbXWrVunyZMna/LkyVq3bp2ysrL0yCOPDPVSAADAMDXkgdLW1qZf/epXOnHihCZMmKCpU6fq008/1aRJkyRJTz31lHp6evTEE0+oq6tL5eXl2rNnj7Kzs4d6KQAAYJjyOY7jmF5EuuLxuILBoGKxGNejAAAwTKTz95vP4gEAANYZlp9mfP6kDzdsAwBg+Dj/d/vHvHgzLAPl/Of2cMM2AACGn5MnTyoYDF7ymGF5Dcq5c+d0/PhxZWdnX/IGbwCGn3g8rkgkotbWVq4xAzzGcRydPHlShYWFuu66S19lMiwDBYB3cRE8AImLZAEAgIUIFAAAYB0CBYBV/H6//vjHP8rv95teCgCDuAYFAABYhzMoAADAOgQKAACwDoECAACsQ6AAAADrECgArPLyyy+ruLhYgUBAU6ZM0SeffGJ6SQAMIFAAWOONN95QdXW11qxZo88//1z33HOPqqqq1NLSYnppAK4x3mYMwBrl5eW6/fbb9corryT3/eQnP9G8efNUU1NjcGUArjXOoACwQl9fn5qbm1VZWZmyv7KyUo2NjYZWBcAUAgWAFU6cOKH+/n6FQqGU/aFQSNFo1NCqAJhCoACwis/nS3nsOM4F+wB4H4ECwAp5eXkaNWrUBWdLOjo6LjirAsD7CBQAVhgzZoymTJmi+vr6lP319fWqqKgwtCoApmSYXgAAnLdixQr95je/0R133KG77rpLr776qlpaWvS73/3O9NIAXGMECgBrLFq0SJ2dnfrTn/6k9vZ2lZSU6P3339ekSZNMLw3ANcZ9UAAAgHW4BgUAAFiHQAEAANYhUAAAgHUIFAAAYB0CBQAAWIdAAQAA1iFQAACAdQgUAABgHQIFAABYh0ABAADWIVAAAIB1CBQAAGCd/w+HJLWgQV+RVQAAAABJRU5ErkJggg==\n",
      "text/plain": [
       "<Figure size 640x480 with 1 Axes>"
      ]
     },
     "metadata": {},
     "output_type": "display_data"
    }
   ],
   "source": [
    "# avg_glucose_level column\n",
    "sn.boxplot(df['avg_glucose_level'])"
   ]
  },
  {
   "cell_type": "code",

   "execution_count": 13,
=======
   "execution_count": 39,

   "id": "09f05764",
   "metadata": {},
   "outputs": [
    {
     "data": {
      "text/plain": [
       "<Axes: >"
      ]
     },

     "execution_count": 13,
=======
     "execution_count": 39,

     "metadata": {},
     "output_type": "execute_result"
    },
    {
     "data": {
      "image/png": "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\n",
      "text/plain": [
       "<Figure size 640x480 with 1 Axes>"
      ]
     },
     "metadata": {},
     "output_type": "display_data"
    }
   ],
   "source": [
    "# bmi column \n",
    "sn.boxplot(df['bmi'])"
   ]
  },
  {
   "cell_type": "markdown",
   "id": "019200ee",
   "metadata": {},
   "source": [
    "#### Convert Categorical values into Numerical values"
   ]
  },
  {
   "cell_type": "markdown",
   "id": "9f2e1206",
   "metadata": {},
   "source": [
    "##### Use One hot encoding"
   ]
  },
  {
   "cell_type": "code",

   "execution_count": 14,
=======
   "execution_count": 40,

   "id": "84dfd0e9",
   "metadata": {},
   "outputs": [],
   "source": [
    "df = pd.get_dummies(df,columns=['gender'],prefix='gender')"
   ]
  },
  {
   "cell_type": "code",

   "execution_count": 15,
=======
   "execution_count": 41,

   "id": "48f97e1a",
   "metadata": {},
   "outputs": [
    {
     "data": {
      "text/html": [
       "<div>\n",
       "<style scoped>\n",
       "    .dataframe tbody tr th:only-of-type {\n",
       "        vertical-align: middle;\n",
       "    }\n",
       "\n",
       "    .dataframe tbody tr th {\n",
       "        vertical-align: top;\n",
       "    }\n",
       "\n",
       "    .dataframe thead th {\n",
       "        text-align: right;\n",
       "    }\n",
       "</style>\n",
       "<table border=\"1\" class=\"dataframe\">\n",
       "  <thead>\n",
       "    <tr style=\"text-align: right;\">\n",
       "      <th></th>\n",
       "      <th>id</th>\n",
       "      <th>age</th>\n",
       "      <th>hypertension</th>\n",
       "      <th>heart_disease</th>\n",
       "      <th>ever_married</th>\n",
       "      <th>work_type</th>\n",
       "      <th>Residence_type</th>\n",
       "      <th>avg_glucose_level</th>\n",
       "      <th>bmi</th>\n",
       "      <th>smoking_status</th>\n",
       "      <th>stroke</th>\n",
       "      <th>gender_Female</th>\n",
       "      <th>gender_Male</th>\n",
       "      <th>gender_Other</th>\n",
       "    </tr>\n",
       "  </thead>\n",
       "  <tbody>\n",
       "    <tr>\n",
       "      <th>0</th>\n",
       "      <td>67</td>\n",
       "      <td>17.0</td>\n",
       "      <td>0</td>\n",
       "      <td>0</td>\n",
       "      <td>No</td>\n",
       "      <td>Private</td>\n",
       "      <td>Urban</td>\n",
       "      <td>92.97</td>\n",
       "      <td>28.7</td>\n",
       "      <td>formerly smoked</td>\n",
       "      <td>0</td>\n",
       "      <td>1</td>\n",
       "      <td>0</td>\n",
       "      <td>0</td>\n",
       "    </tr>\n",
       "    <tr>\n",
       "      <th>1</th>\n",
       "      <td>77</td>\n",
       "      <td>13.0</td>\n",
       "      <td>0</td>\n",
       "      <td>0</td>\n",
       "      <td>No</td>\n",
       "      <td>children</td>\n",
       "      <td>Rural</td>\n",
       "      <td>85.81</td>\n",
       "      <td>18.6</td>\n",
       "      <td>Unknown</td>\n",
       "      <td>0</td>\n",
       "      <td>1</td>\n",
       "      <td>0</td>\n",
       "      <td>0</td>\n",
       "    </tr>\n",
       "    <tr>\n",
       "      <th>2</th>\n",
       "      <td>84</td>\n",
       "      <td>55.0</td>\n",
       "      <td>0</td>\n",
       "      <td>0</td>\n",
       "      <td>Yes</td>\n",
       "      <td>Private</td>\n",
       "      <td>Urban</td>\n",
       "      <td>89.17</td>\n",
       "      <td>31.5</td>\n",
       "      <td>never smoked</td>\n",
       "      <td>0</td>\n",
       "      <td>0</td>\n",
       "      <td>1</td>\n",
       "      <td>0</td>\n",
       "    </tr>\n",
       "    <tr>\n",
       "      <th>3</th>\n",
       "      <td>91</td>\n",
       "      <td>42.0</td>\n",
       "      <td>0</td>\n",
       "      <td>0</td>\n",
       "      <td>No</td>\n",
       "      <td>Private</td>\n",
       "      <td>Urban</td>\n",
       "      <td>98.53</td>\n",
       "      <td>18.5</td>\n",
       "      <td>never smoked</td>\n",
       "      <td>0</td>\n",
       "      <td>1</td>\n",
       "      <td>0</td>\n",
       "      <td>0</td>\n",
       "    </tr>\n",
       "    <tr>\n",
       "      <th>4</th>\n",
       "      <td>99</td>\n",
       "      <td>31.0</td>\n",
       "      <td>0</td>\n",
       "      <td>0</td>\n",
       "      <td>No</td>\n",
       "      <td>Private</td>\n",
       "      <td>Urban</td>\n",
       "      <td>108.89</td>\n",
       "      <td>52.3</td>\n",
       "      <td>Unknown</td>\n",
       "      <td>0</td>\n",
       "      <td>1</td>\n",
       "      <td>0</td>\n",
       "      <td>0</td>\n",
       "    </tr>\n",
       "  </tbody>\n",
       "</table>\n",
       "</div>"
      ],
      "text/plain": [
       "   id   age  hypertension  heart_disease ever_married work_type  \\\n",
       "0  67  17.0             0              0           No   Private   \n",
       "1  77  13.0             0              0           No  children   \n",
       "2  84  55.0             0              0          Yes   Private   \n",
       "3  91  42.0             0              0           No   Private   \n",
       "4  99  31.0             0              0           No   Private   \n",
       "\n",
       "  Residence_type  avg_glucose_level   bmi   smoking_status  stroke  \\\n",
       "0          Urban              92.97  28.7  formerly smoked       0   \n",
       "1          Rural              85.81  18.6          Unknown       0   \n",
       "2          Urban              89.17  31.5     never smoked       0   \n",
       "3          Urban              98.53  18.5     never smoked       0   \n",
       "4          Urban             108.89  52.3          Unknown       0   \n",
       "\n",
       "   gender_Female  gender_Male  gender_Other  \n",
       "0              1            0             0  \n",
       "1              1            0             0  \n",
       "2              0            1             0  \n",
       "3              1            0             0  \n",
       "4              1            0             0  "
      ]
     },

     "execution_count": 15,
=======
     "execution_count": 41,

     "metadata": {},
     "output_type": "execute_result"
    }
   ],
   "source": [
    "df.head()"
   ]
  },
  {
   "cell_type": "code",

   "execution_count": 16,
=======
   "execution_count": 42,

   "id": "2f203885",
   "metadata": {},
   "outputs": [],
   "source": [
    "df = pd.get_dummies(df,columns=['ever_married'],prefix='ever_married')"
   ]
  },
  {
   "cell_type": "code",

   "execution_count": 17,
=======
   "execution_count": 43,

   "id": "a8696aa8",
   "metadata": {},
   "outputs": [
    {
     "data": {
      "text/html": [
       "<div>\n",
       "<style scoped>\n",
       "    .dataframe tbody tr th:only-of-type {\n",
       "        vertical-align: middle;\n",
       "    }\n",
       "\n",
       "    .dataframe tbody tr th {\n",
       "        vertical-align: top;\n",
       "    }\n",
       "\n",
       "    .dataframe thead th {\n",
       "        text-align: right;\n",
       "    }\n",
       "</style>\n",
       "<table border=\"1\" class=\"dataframe\">\n",
       "  <thead>\n",
       "    <tr style=\"text-align: right;\">\n",
       "      <th></th>\n",
       "      <th>id</th>\n",
       "      <th>age</th>\n",
       "      <th>hypertension</th>\n",
       "      <th>heart_disease</th>\n",
       "      <th>work_type</th>\n",
       "      <th>Residence_type</th>\n",
       "      <th>avg_glucose_level</th>\n",
       "      <th>bmi</th>\n",
       "      <th>smoking_status</th>\n",
       "      <th>stroke</th>\n",
       "      <th>gender_Female</th>\n",
       "      <th>gender_Male</th>\n",
       "      <th>gender_Other</th>\n",
       "      <th>ever_married_No</th>\n",
       "      <th>ever_married_Yes</th>\n",
       "    </tr>\n",
       "  </thead>\n",
       "  <tbody>\n",
       "    <tr>\n",
       "      <th>0</th>\n",
       "      <td>67</td>\n",
       "      <td>17.0</td>\n",
       "      <td>0</td>\n",
       "      <td>0</td>\n",
       "      <td>Private</td>\n",
       "      <td>Urban</td>\n",
       "      <td>92.97</td>\n",
       "      <td>28.7</td>\n",
       "      <td>formerly smoked</td>\n",
       "      <td>0</td>\n",
       "      <td>1</td>\n",
       "      <td>0</td>\n",
       "      <td>0</td>\n",
       "      <td>1</td>\n",
       "      <td>0</td>\n",
       "    </tr>\n",
       "    <tr>\n",
       "      <th>1</th>\n",
       "      <td>77</td>\n",
       "      <td>13.0</td>\n",
       "      <td>0</td>\n",
       "      <td>0</td>\n",
       "      <td>children</td>\n",
       "      <td>Rural</td>\n",
       "      <td>85.81</td>\n",
       "      <td>18.6</td>\n",
       "      <td>Unknown</td>\n",
       "      <td>0</td>\n",
       "      <td>1</td>\n",
       "      <td>0</td>\n",
       "      <td>0</td>\n",
       "      <td>1</td>\n",
       "      <td>0</td>\n",
       "    </tr>\n",
       "    <tr>\n",
       "      <th>2</th>\n",
       "      <td>84</td>\n",
       "      <td>55.0</td>\n",
       "      <td>0</td>\n",
       "      <td>0</td>\n",
       "      <td>Private</td>\n",
       "      <td>Urban</td>\n",
       "      <td>89.17</td>\n",
       "      <td>31.5</td>\n",
       "      <td>never smoked</td>\n",
       "      <td>0</td>\n",
       "      <td>0</td>\n",
       "      <td>1</td>\n",
       "      <td>0</td>\n",
       "      <td>0</td>\n",
       "      <td>1</td>\n",
       "    </tr>\n",
       "    <tr>\n",
       "      <th>3</th>\n",
       "      <td>91</td>\n",
       "      <td>42.0</td>\n",
       "      <td>0</td>\n",
       "      <td>0</td>\n",
       "      <td>Private</td>\n",
       "      <td>Urban</td>\n",
       "      <td>98.53</td>\n",
       "      <td>18.5</td>\n",
       "      <td>never smoked</td>\n",
       "      <td>0</td>\n",
       "      <td>1</td>\n",
       "      <td>0</td>\n",
       "      <td>0</td>\n",
       "      <td>1</td>\n",
       "      <td>0</td>\n",
       "    </tr>\n",
       "    <tr>\n",
       "      <th>4</th>\n",
       "      <td>99</td>\n",
       "      <td>31.0</td>\n",
       "      <td>0</td>\n",
       "      <td>0</td>\n",
       "      <td>Private</td>\n",
       "      <td>Urban</td>\n",
       "      <td>108.89</td>\n",
       "      <td>52.3</td>\n",
       "      <td>Unknown</td>\n",
       "      <td>0</td>\n",
       "      <td>1</td>\n",
       "      <td>0</td>\n",
       "      <td>0</td>\n",
       "      <td>1</td>\n",
       "      <td>0</td>\n",
       "    </tr>\n",
       "  </tbody>\n",
       "</table>\n",
       "</div>"
      ],
      "text/plain": [
       "   id   age  hypertension  heart_disease work_type Residence_type  \\\n",
       "0  67  17.0             0              0   Private          Urban   \n",
       "1  77  13.0             0              0  children          Rural   \n",
       "2  84  55.0             0              0   Private          Urban   \n",
       "3  91  42.0             0              0   Private          Urban   \n",
       "4  99  31.0             0              0   Private          Urban   \n",
       "\n",
       "   avg_glucose_level   bmi   smoking_status  stroke  gender_Female  \\\n",
       "0              92.97  28.7  formerly smoked       0              1   \n",
       "1              85.81  18.6          Unknown       0              1   \n",
       "2              89.17  31.5     never smoked       0              0   \n",
       "3              98.53  18.5     never smoked       0              1   \n",
       "4             108.89  52.3          Unknown       0              1   \n",
       "\n",
       "   gender_Male  gender_Other  ever_married_No  ever_married_Yes  \n",
       "0            0             0                1                 0  \n",
       "1            0             0                1                 0  \n",
       "2            1             0                0                 1  \n",
       "3            0             0                1                 0  \n",
       "4            0             0                1                 0  "
      ]
     },

     "execution_count": 17,
=======
     "execution_count": 43,

     "metadata": {},
     "output_type": "execute_result"
    }
   ],
   "source": [
    "df.head()"
   ]
  },
  {
   "cell_type": "code",

   "execution_count": 18,
=======
   "execution_count": 44,

   "id": "e39f9f01",
   "metadata": {},
   "outputs": [],
   "source": [
    "df = pd.get_dummies(df,columns=['work_type'],prefix='work_type')"
   ]
  },
  {
   "cell_type": "code",

   "execution_count": 19,
=======
   "execution_count": 45,

   "id": "7c24d1ab",
   "metadata": {},
   "outputs": [
    {
     "data": {
      "text/html": [
       "<div>\n",
       "<style scoped>\n",
       "    .dataframe tbody tr th:only-of-type {\n",
       "        vertical-align: middle;\n",
       "    }\n",
       "\n",
       "    .dataframe tbody tr th {\n",
       "        vertical-align: top;\n",
       "    }\n",
       "\n",
       "    .dataframe thead th {\n",
       "        text-align: right;\n",
       "    }\n",
       "</style>\n",
       "<table border=\"1\" class=\"dataframe\">\n",
       "  <thead>\n",
       "    <tr style=\"text-align: right;\">\n",
       "      <th></th>\n",
       "      <th>id</th>\n",
       "      <th>age</th>\n",
       "      <th>hypertension</th>\n",
       "      <th>heart_disease</th>\n",
       "      <th>Residence_type</th>\n",
       "      <th>avg_glucose_level</th>\n",
       "      <th>bmi</th>\n",
       "      <th>smoking_status</th>\n",
       "      <th>stroke</th>\n",
       "      <th>gender_Female</th>\n",
       "      <th>gender_Male</th>\n",
       "      <th>gender_Other</th>\n",
       "      <th>ever_married_No</th>\n",
       "      <th>ever_married_Yes</th>\n",
       "      <th>work_type_Govt_job</th>\n",
       "      <th>work_type_Never_worked</th>\n",
       "      <th>work_type_Private</th>\n",
       "      <th>work_type_Self-employed</th>\n",
       "      <th>work_type_children</th>\n",
       "    </tr>\n",
       "  </thead>\n",
       "  <tbody>\n",
       "    <tr>\n",
       "      <th>0</th>\n",
       "      <td>67</td>\n",
       "      <td>17.0</td>\n",
       "      <td>0</td>\n",
       "      <td>0</td>\n",
       "      <td>Urban</td>\n",
       "      <td>92.97</td>\n",
       "      <td>28.7</td>\n",
       "      <td>formerly smoked</td>\n",
       "      <td>0</td>\n",
       "      <td>1</td>\n",
       "      <td>0</td>\n",
       "      <td>0</td>\n",
       "      <td>1</td>\n",
       "      <td>0</td>\n",
       "      <td>0</td>\n",
       "      <td>0</td>\n",
       "      <td>1</td>\n",
       "      <td>0</td>\n",
       "      <td>0</td>\n",
       "    </tr>\n",
       "    <tr>\n",
       "      <th>1</th>\n",
       "      <td>77</td>\n",
       "      <td>13.0</td>\n",
       "      <td>0</td>\n",
       "      <td>0</td>\n",
       "      <td>Rural</td>\n",
       "      <td>85.81</td>\n",
       "      <td>18.6</td>\n",
       "      <td>Unknown</td>\n",
       "      <td>0</td>\n",
       "      <td>1</td>\n",
       "      <td>0</td>\n",
       "      <td>0</td>\n",
       "      <td>1</td>\n",
       "      <td>0</td>\n",
       "      <td>0</td>\n",
       "      <td>0</td>\n",
       "      <td>0</td>\n",
       "      <td>0</td>\n",
       "      <td>1</td>\n",
       "    </tr>\n",
       "    <tr>\n",
       "      <th>2</th>\n",
       "      <td>84</td>\n",
       "      <td>55.0</td>\n",
       "      <td>0</td>\n",
       "      <td>0</td>\n",
       "      <td>Urban</td>\n",
       "      <td>89.17</td>\n",
       "      <td>31.5</td>\n",
       "      <td>never smoked</td>\n",
       "      <td>0</td>\n",
       "      <td>0</td>\n",
       "      <td>1</td>\n",
       "      <td>0</td>\n",
       "      <td>0</td>\n",
       "      <td>1</td>\n",
       "      <td>0</td>\n",
       "      <td>0</td>\n",
       "      <td>1</td>\n",
       "      <td>0</td>\n",
       "      <td>0</td>\n",
       "    </tr>\n",
       "    <tr>\n",
       "      <th>3</th>\n",
       "      <td>91</td>\n",
       "      <td>42.0</td>\n",
       "      <td>0</td>\n",
       "      <td>0</td>\n",
       "      <td>Urban</td>\n",
       "      <td>98.53</td>\n",
       "      <td>18.5</td>\n",
       "      <td>never smoked</td>\n",
       "      <td>0</td>\n",
       "      <td>1</td>\n",
       "      <td>0</td>\n",
       "      <td>0</td>\n",
       "      <td>1</td>\n",
       "      <td>0</td>\n",
       "      <td>0</td>\n",
       "      <td>0</td>\n",
       "      <td>1</td>\n",
       "      <td>0</td>\n",
       "      <td>0</td>\n",
       "    </tr>\n",
       "    <tr>\n",
       "      <th>4</th>\n",
       "      <td>99</td>\n",
       "      <td>31.0</td>\n",
       "      <td>0</td>\n",
       "      <td>0</td>\n",
       "      <td>Urban</td>\n",
       "      <td>108.89</td>\n",
       "      <td>52.3</td>\n",
       "      <td>Unknown</td>\n",
       "      <td>0</td>\n",
       "      <td>1</td>\n",
       "      <td>0</td>\n",
       "      <td>0</td>\n",
       "      <td>1</td>\n",
       "      <td>0</td>\n",
       "      <td>0</td>\n",
       "      <td>0</td>\n",
       "      <td>1</td>\n",
       "      <td>0</td>\n",
       "      <td>0</td>\n",
       "    </tr>\n",
       "  </tbody>\n",
       "</table>\n",
       "</div>"
      ],
      "text/plain": [
       "   id   age  hypertension  heart_disease Residence_type  avg_glucose_level  \\\n",
       "0  67  17.0             0              0          Urban              92.97   \n",
       "1  77  13.0             0              0          Rural              85.81   \n",
       "2  84  55.0             0              0          Urban              89.17   \n",
       "3  91  42.0             0              0          Urban              98.53   \n",
       "4  99  31.0             0              0          Urban             108.89   \n",
       "\n",
       "    bmi   smoking_status  stroke  gender_Female  gender_Male  gender_Other  \\\n",
       "0  28.7  formerly smoked       0              1            0             0   \n",
       "1  18.6          Unknown       0              1            0             0   \n",
       "2  31.5     never smoked       0              0            1             0   \n",
       "3  18.5     never smoked       0              1            0             0   \n",
       "4  52.3          Unknown       0              1            0             0   \n",
       "\n",
       "   ever_married_No  ever_married_Yes  work_type_Govt_job  \\\n",
       "0                1                 0                   0   \n",
       "1                1                 0                   0   \n",
       "2                0                 1                   0   \n",
       "3                1                 0                   0   \n",
       "4                1                 0                   0   \n",
       "\n",
       "   work_type_Never_worked  work_type_Private  work_type_Self-employed  \\\n",
       "0                       0                  1                        0   \n",
       "1                       0                  0                        0   \n",
       "2                       0                  1                        0   \n",
       "3                       0                  1                        0   \n",
       "4                       0                  1                        0   \n",
       "\n",
       "   work_type_children  \n",
       "0                   0  \n",
       "1                   1  \n",
       "2                   0  \n",
       "3                   0  \n",
       "4                   0  "
      ]
     },

     "execution_count": 19,
=======
     "execution_count": 45,

     "metadata": {},
     "output_type": "execute_result"
    }
   ],
   "source": [
    "df.head()"
   ]
  },
  {
   "cell_type": "code",

   "execution_count": 20,
=======
   "execution_count": 46,

   "id": "26835c8f",
   "metadata": {},
   "outputs": [],
   "source": [
    "df = pd.get_dummies(df,columns=['Residence_type'],prefix='Residence_type')"
   ]
  },
  {
   "cell_type": "code",

   "execution_count": 21,
=======
   "execution_count": 47,

   "id": "852489b4",
   "metadata": {},
   "outputs": [
    {
     "data": {
      "text/html": [
       "<div>\n",
       "<style scoped>\n",
       "    .dataframe tbody tr th:only-of-type {\n",
       "        vertical-align: middle;\n",
       "    }\n",
       "\n",
       "    .dataframe tbody tr th {\n",
       "        vertical-align: top;\n",
       "    }\n",
       "\n",
       "    .dataframe thead th {\n",
       "        text-align: right;\n",
       "    }\n",
       "</style>\n",
       "<table border=\"1\" class=\"dataframe\">\n",
       "  <thead>\n",
       "    <tr style=\"text-align: right;\">\n",
       "      <th></th>\n",
       "      <th>id</th>\n",
       "      <th>age</th>\n",
       "      <th>hypertension</th>\n",
       "      <th>heart_disease</th>\n",
       "      <th>avg_glucose_level</th>\n",
       "      <th>bmi</th>\n",
       "      <th>smoking_status</th>\n",
       "      <th>stroke</th>\n",
       "      <th>gender_Female</th>\n",
       "      <th>gender_Male</th>\n",
       "      <th>gender_Other</th>\n",
       "      <th>ever_married_No</th>\n",
       "      <th>ever_married_Yes</th>\n",
       "      <th>work_type_Govt_job</th>\n",
       "      <th>work_type_Never_worked</th>\n",
       "      <th>work_type_Private</th>\n",
       "      <th>work_type_Self-employed</th>\n",
       "      <th>work_type_children</th>\n",
       "      <th>Residence_type_Rural</th>\n",
       "      <th>Residence_type_Urban</th>\n",
       "    </tr>\n",
       "  </thead>\n",
       "  <tbody>\n",
       "    <tr>\n",
       "      <th>0</th>\n",
       "      <td>67</td>\n",
       "      <td>17.0</td>\n",
       "      <td>0</td>\n",
       "      <td>0</td>\n",
       "      <td>92.97</td>\n",
       "      <td>28.7</td>\n",
       "      <td>formerly smoked</td>\n",
       "      <td>0</td>\n",
       "      <td>1</td>\n",
       "      <td>0</td>\n",
       "      <td>0</td>\n",
       "      <td>1</td>\n",
       "      <td>0</td>\n",
       "      <td>0</td>\n",
       "      <td>0</td>\n",
       "      <td>1</td>\n",
       "      <td>0</td>\n",
       "      <td>0</td>\n",
       "      <td>0</td>\n",
       "      <td>1</td>\n",
       "    </tr>\n",
       "    <tr>\n",
       "      <th>1</th>\n",
       "      <td>77</td>\n",
       "      <td>13.0</td>\n",
       "      <td>0</td>\n",
       "      <td>0</td>\n",
       "      <td>85.81</td>\n",
       "      <td>18.6</td>\n",
       "      <td>Unknown</td>\n",
       "      <td>0</td>\n",
       "      <td>1</td>\n",
       "      <td>0</td>\n",
       "      <td>0</td>\n",
       "      <td>1</td>\n",
       "      <td>0</td>\n",
       "      <td>0</td>\n",
       "      <td>0</td>\n",
       "      <td>0</td>\n",
       "      <td>0</td>\n",
       "      <td>1</td>\n",
       "      <td>1</td>\n",
       "      <td>0</td>\n",
       "    </tr>\n",
       "    <tr>\n",
       "      <th>2</th>\n",
       "      <td>84</td>\n",
       "      <td>55.0</td>\n",
       "      <td>0</td>\n",
       "      <td>0</td>\n",
       "      <td>89.17</td>\n",
       "      <td>31.5</td>\n",
       "      <td>never smoked</td>\n",
       "      <td>0</td>\n",
       "      <td>0</td>\n",
       "      <td>1</td>\n",
       "      <td>0</td>\n",
       "      <td>0</td>\n",
       "      <td>1</td>\n",
       "      <td>0</td>\n",
       "      <td>0</td>\n",
       "      <td>1</td>\n",
       "      <td>0</td>\n",
       "      <td>0</td>\n",
       "      <td>0</td>\n",
       "      <td>1</td>\n",
       "    </tr>\n",
       "    <tr>\n",
       "      <th>3</th>\n",
       "      <td>91</td>\n",
       "      <td>42.0</td>\n",
       "      <td>0</td>\n",
       "      <td>0</td>\n",
       "      <td>98.53</td>\n",
       "      <td>18.5</td>\n",
       "      <td>never smoked</td>\n",
       "      <td>0</td>\n",
       "      <td>1</td>\n",
       "      <td>0</td>\n",
       "      <td>0</td>\n",
       "      <td>1</td>\n",
       "      <td>0</td>\n",
       "      <td>0</td>\n",
       "      <td>0</td>\n",
       "      <td>1</td>\n",
       "      <td>0</td>\n",
       "      <td>0</td>\n",
       "      <td>0</td>\n",
       "      <td>1</td>\n",
       "    </tr>\n",
       "    <tr>\n",
       "      <th>4</th>\n",
       "      <td>99</td>\n",
       "      <td>31.0</td>\n",
       "      <td>0</td>\n",
       "      <td>0</td>\n",
       "      <td>108.89</td>\n",
       "      <td>52.3</td>\n",
       "      <td>Unknown</td>\n",
       "      <td>0</td>\n",
       "      <td>1</td>\n",
       "      <td>0</td>\n",
       "      <td>0</td>\n",
       "      <td>1</td>\n",
       "      <td>0</td>\n",
       "      <td>0</td>\n",
       "      <td>0</td>\n",
       "      <td>1</td>\n",
       "      <td>0</td>\n",
       "      <td>0</td>\n",
       "      <td>0</td>\n",
       "      <td>1</td>\n",
       "    </tr>\n",
       "  </tbody>\n",
       "</table>\n",
       "</div>"
      ],
      "text/plain": [
       "   id   age  hypertension  heart_disease  avg_glucose_level   bmi  \\\n",
       "0  67  17.0             0              0              92.97  28.7   \n",
       "1  77  13.0             0              0              85.81  18.6   \n",
       "2  84  55.0             0              0              89.17  31.5   \n",
       "3  91  42.0             0              0              98.53  18.5   \n",
       "4  99  31.0             0              0             108.89  52.3   \n",
       "\n",
       "    smoking_status  stroke  gender_Female  gender_Male  gender_Other  \\\n",
       "0  formerly smoked       0              1            0             0   \n",
       "1          Unknown       0              1            0             0   \n",
       "2     never smoked       0              0            1             0   \n",
       "3     never smoked       0              1            0             0   \n",
       "4          Unknown       0              1            0             0   \n",
       "\n",
       "   ever_married_No  ever_married_Yes  work_type_Govt_job  \\\n",
       "0                1                 0                   0   \n",
       "1                1                 0                   0   \n",
       "2                0                 1                   0   \n",
       "3                1                 0                   0   \n",
       "4                1                 0                   0   \n",
       "\n",
       "   work_type_Never_worked  work_type_Private  work_type_Self-employed  \\\n",
       "0                       0                  1                        0   \n",
       "1                       0                  0                        0   \n",
       "2                       0                  1                        0   \n",
       "3                       0                  1                        0   \n",
       "4                       0                  1                        0   \n",
       "\n",
       "   work_type_children  Residence_type_Rural  Residence_type_Urban  \n",
       "0                   0                     0                     1  \n",
       "1                   1                     1                     0  \n",
       "2                   0                     0                     1  \n",
       "3                   0                     0                     1  \n",
       "4                   0                     0                     1  "
      ]
     },

     "execution_count": 21,
=======
     "execution_count": 47,

     "metadata": {},
     "output_type": "execute_result"
    }
   ],
   "source": [
    "df.head()"
   ]
  },
  {
   "cell_type": "code",

   "execution_count": 22,
=======
   "execution_count": 48,

   "id": "4f3e53a9",
   "metadata": {},
   "outputs": [],
   "source": [
    "df = pd.get_dummies(df,columns=['smoking_status'],prefix='smoking_status')"
   ]
  },
  {
   "cell_type": "code",

   "execution_count": 23,
=======
   "execution_count": 49,

   "id": "14ae151f",
   "metadata": {},
   "outputs": [
    {
     "data": {
      "text/html": [
       "<div>\n",
       "<style scoped>\n",
       "    .dataframe tbody tr th:only-of-type {\n",
       "        vertical-align: middle;\n",
       "    }\n",
       "\n",
       "    .dataframe tbody tr th {\n",
       "        vertical-align: top;\n",
       "    }\n",
       "\n",
       "    .dataframe thead th {\n",
       "        text-align: right;\n",
       "    }\n",
       "</style>\n",
       "<table border=\"1\" class=\"dataframe\">\n",
       "  <thead>\n",
       "    <tr style=\"text-align: right;\">\n",
       "      <th></th>\n",
       "      <th>id</th>\n",
       "      <th>age</th>\n",
       "      <th>hypertension</th>\n",
       "      <th>heart_disease</th>\n",
       "      <th>avg_glucose_level</th>\n",
       "      <th>bmi</th>\n",
       "      <th>stroke</th>\n",
       "      <th>gender_Female</th>\n",
       "      <th>gender_Male</th>\n",
       "      <th>gender_Other</th>\n",
       "      <th>...</th>\n",
       "      <th>work_type_Never_worked</th>\n",
       "      <th>work_type_Private</th>\n",
       "      <th>work_type_Self-employed</th>\n",
       "      <th>work_type_children</th>\n",
       "      <th>Residence_type_Rural</th>\n",
       "      <th>Residence_type_Urban</th>\n",
       "      <th>smoking_status_Unknown</th>\n",
       "      <th>smoking_status_formerly smoked</th>\n",
       "      <th>smoking_status_never smoked</th>\n",
       "      <th>smoking_status_smokes</th>\n",
       "    </tr>\n",
       "  </thead>\n",
       "  <tbody>\n",
       "    <tr>\n",
       "      <th>0</th>\n",
       "      <td>67</td>\n",
       "      <td>17.0</td>\n",
       "      <td>0</td>\n",
       "      <td>0</td>\n",
       "      <td>92.97</td>\n",
       "      <td>28.7</td>\n",
       "      <td>0</td>\n",
       "      <td>1</td>\n",
       "      <td>0</td>\n",
       "      <td>0</td>\n",
       "      <td>...</td>\n",
       "      <td>0</td>\n",
       "      <td>1</td>\n",
       "      <td>0</td>\n",
       "      <td>0</td>\n",
       "      <td>0</td>\n",
       "      <td>1</td>\n",
       "      <td>0</td>\n",
       "      <td>1</td>\n",
       "      <td>0</td>\n",
       "      <td>0</td>\n",
       "    </tr>\n",
       "    <tr>\n",
       "      <th>1</th>\n",
       "      <td>77</td>\n",
       "      <td>13.0</td>\n",
       "      <td>0</td>\n",
       "      <td>0</td>\n",
       "      <td>85.81</td>\n",
       "      <td>18.6</td>\n",
       "      <td>0</td>\n",
       "      <td>1</td>\n",
       "      <td>0</td>\n",
       "      <td>0</td>\n",
       "      <td>...</td>\n",
       "      <td>0</td>\n",
       "      <td>0</td>\n",
       "      <td>0</td>\n",
       "      <td>1</td>\n",
       "      <td>1</td>\n",
       "      <td>0</td>\n",
       "      <td>1</td>\n",
       "      <td>0</td>\n",
       "      <td>0</td>\n",
       "      <td>0</td>\n",
       "    </tr>\n",
       "    <tr>\n",
       "      <th>2</th>\n",
       "      <td>84</td>\n",
       "      <td>55.0</td>\n",
       "      <td>0</td>\n",
       "      <td>0</td>\n",
       "      <td>89.17</td>\n",
       "      <td>31.5</td>\n",
       "      <td>0</td>\n",
       "      <td>0</td>\n",
       "      <td>1</td>\n",
       "      <td>0</td>\n",
       "      <td>...</td>\n",
       "      <td>0</td>\n",
       "      <td>1</td>\n",
       "      <td>0</td>\n",
       "      <td>0</td>\n",
       "      <td>0</td>\n",
       "      <td>1</td>\n",
       "      <td>0</td>\n",
       "      <td>0</td>\n",
       "      <td>1</td>\n",
       "      <td>0</td>\n",
       "    </tr>\n",
       "    <tr>\n",
       "      <th>3</th>\n",
       "      <td>91</td>\n",
       "      <td>42.0</td>\n",
       "      <td>0</td>\n",
       "      <td>0</td>\n",
       "      <td>98.53</td>\n",
       "      <td>18.5</td>\n",
       "      <td>0</td>\n",
       "      <td>1</td>\n",
       "      <td>0</td>\n",
       "      <td>0</td>\n",
       "      <td>...</td>\n",
       "      <td>0</td>\n",
       "      <td>1</td>\n",
       "      <td>0</td>\n",
       "      <td>0</td>\n",
       "      <td>0</td>\n",
       "      <td>1</td>\n",
       "      <td>0</td>\n",
       "      <td>0</td>\n",
       "      <td>1</td>\n",
       "      <td>0</td>\n",
       "    </tr>\n",
       "    <tr>\n",
       "      <th>4</th>\n",
       "      <td>99</td>\n",
       "      <td>31.0</td>\n",
       "      <td>0</td>\n",
       "      <td>0</td>\n",
       "      <td>108.89</td>\n",
       "      <td>52.3</td>\n",
       "      <td>0</td>\n",
       "      <td>1</td>\n",
       "      <td>0</td>\n",
       "      <td>0</td>\n",
       "      <td>...</td>\n",
       "      <td>0</td>\n",
       "      <td>1</td>\n",
       "      <td>0</td>\n",
       "      <td>0</td>\n",
       "      <td>0</td>\n",
       "      <td>1</td>\n",
       "      <td>1</td>\n",
       "      <td>0</td>\n",
       "      <td>0</td>\n",
       "      <td>0</td>\n",
       "    </tr>\n",
       "  </tbody>\n",
       "</table>\n",
       "<p>5 rows × 23 columns</p>\n",
       "</div>"
      ],
      "text/plain": [
       "   id   age  hypertension  heart_disease  avg_glucose_level   bmi  stroke  \\\n",
       "0  67  17.0             0              0              92.97  28.7       0   \n",
       "1  77  13.0             0              0              85.81  18.6       0   \n",
       "2  84  55.0             0              0              89.17  31.5       0   \n",
       "3  91  42.0             0              0              98.53  18.5       0   \n",
       "4  99  31.0             0              0             108.89  52.3       0   \n",
       "\n",
       "   gender_Female  gender_Male  gender_Other  ...  work_type_Never_worked  \\\n",
       "0              1            0             0  ...                       0   \n",
       "1              1            0             0  ...                       0   \n",
       "2              0            1             0  ...                       0   \n",
       "3              1            0             0  ...                       0   \n",
       "4              1            0             0  ...                       0   \n",
       "\n",
       "   work_type_Private  work_type_Self-employed  work_type_children  \\\n",
       "0                  1                        0                   0   \n",
       "1                  0                        0                   1   \n",
       "2                  1                        0                   0   \n",
       "3                  1                        0                   0   \n",
       "4                  1                        0                   0   \n",
       "\n",
       "   Residence_type_Rural  Residence_type_Urban  smoking_status_Unknown  \\\n",
       "0                     0                     1                       0   \n",
       "1                     1                     0                       1   \n",
       "2                     0                     1                       0   \n",
       "3                     0                     1                       0   \n",
       "4                     0                     1                       1   \n",
       "\n",
       "   smoking_status_formerly smoked  smoking_status_never smoked  \\\n",
       "0                               1                            0   \n",
       "1                               0                            0   \n",
       "2                               0                            1   \n",
       "3                               0                            1   \n",
       "4                               0                            0   \n",
       "\n",
       "   smoking_status_smokes  \n",
       "0                      0  \n",
       "1                      0  \n",
       "2                      0  \n",
       "3                      0  \n",
       "4                      0  \n",
       "\n",
       "[5 rows x 23 columns]"
      ]
     },

     "execution_count": 23,
=======
     "execution_count": 49,

     "metadata": {},
     "output_type": "execute_result"
    }
   ],
   "source": [
    "df.head()"
   ]
  },
  {
   "cell_type": "markdown",

   "id": "3c8a077d",
   "metadata": {},
   "source": [
    "## Exploratory Data Analysis (EDA)"
   ]
=======
   "id": "8ddb7d48",
   "metadata": {},
   "source": []

  },
  {
   "cell_type": "code",
   "execution_count": null,

   "id": "1ab29ed8",
=======
   "id": "20143370",

   "metadata": {},
   "outputs": [],
   "source": []
  }
 ],
 "metadata": {
  "kernelspec": {
   "display_name": "Python 3 (ipykernel)",
   "language": "python",
   "name": "python3"
  },
  "language_info": {
   "codemirror_mode": {
    "name": "ipython",
    "version": 3
   },
   "file_extension": ".py",
   "mimetype": "text/x-python",
   "name": "python",
   "nbconvert_exporter": "python",
   "pygments_lexer": "ipython3",
   "version": "3.10.9"
  }
 },
 "nbformat": 4,
 "nbformat_minor": 5
}
